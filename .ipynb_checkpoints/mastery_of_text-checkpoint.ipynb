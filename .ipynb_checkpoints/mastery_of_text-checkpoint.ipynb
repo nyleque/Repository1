{
 "cells": [
  {
   "cell_type": "markdown",
   "id": "e317c673-b403-4462-90b2-ea48217a4aa0",
   "metadata": {},
   "source": [
    "## 1. pg10"
   ]
  },
  {
   "cell_type": "code",
   "execution_count": 4,
   "id": "f878fc1d-03be-4c60-8cb5-8c2cc2b5dad5",
   "metadata": {},
   "outputs": [],
   "source": [
    "from urllib.request import urlopen\n",
    "url = \"https://www.gutenberg.org/cache/epub/10/pg10.txt\"\n",
    "page = urlopen(url)\n",
    "html_bytes = page.read()\n",
    "pg10 = html_bytes.decode(\"utf-8\")"
   ]
  },
  {
   "cell_type": "markdown",
   "id": "0c07edec-55ce-4030-aac4-155bbc4d1008",
   "metadata": {},
   "source": [
    "## 2. Using the string stored at pg10, answer the following questions:"
   ]
  },
  {
   "cell_type": "markdown",
   "id": "58420caa-0915-4297-bc41-bed9f4be798a",
   "metadata": {},
   "source": [
    "## 1. How many lines does the string have?"
   ]
  },
  {
   "cell_type": "code",
   "execution_count": 8,
   "id": "78cf89ee-dc75-429d-8296-81d861c4aacf",
   "metadata": {},
   "outputs": [
    {
     "name": "stdout",
     "output_type": "stream",
     "text": [
      "The string has 99968 lines.\n"
     ]
    }
   ],
   "source": [
    "lines = pg10.splitlines()\n",
    "print(\"The string has \" + str(len(lines)) + \" lines.\")"
   ]
  },
  {
   "cell_type": "markdown",
   "id": "03a50497-57ea-44f8-9640-074b5ea25522",
   "metadata": {},
   "source": [
    "## 2. How many words does the string have?"
   ]
  },
  {
   "cell_type": "code",
   "execution_count": 10,
   "id": "39d8a33c-7e0a-4561-bcb4-6e70587a00fd",
   "metadata": {},
   "outputs": [
    {
     "name": "stdout",
     "output_type": "stream",
     "text": [
      "The string has 824538 words.\n"
     ]
    }
   ],
   "source": [
    "words = pg10.split()\n",
    "print(\"The string has \" + str(len(words)) + \" words.\")"
   ]
  },
  {
   "cell_type": "markdown",
   "id": "45c5919f-4e18-40b8-84b4-a153704d2ce7",
   "metadata": {},
   "source": [
    "## 3. How many times does the word \"apostle\" appear in the string?"
   ]
  },
  {
   "cell_type": "code",
   "execution_count": 12,
   "id": "e8f749a7-8b4a-463d-873c-694aaa1c542a",
   "metadata": {},
   "outputs": [
    {
     "name": "stdout",
     "output_type": "stream",
     "text": [
      "The word 'apostle' appears 39 times in the string.\n"
     ]
    }
   ],
   "source": [
    "lower_pg10 = pg10.lower()\n",
    "a = lower_pg10.split(\" \")\n",
    "word = \"apostle\"\n",
    "count = 0\n",
    "for i in range(0, len(a)):\n",
    "    if (word == a[i]):\n",
    "        count = count + 1     \n",
    "print(\"The word 'apostle' appears \" + str(count) + \" times in the string.\")"
   ]
  },
  {
   "cell_type": "markdown",
   "id": "ded92ca2-7bf3-4cb4-b1b0-5808e0667778",
   "metadata": {},
   "source": [
    "## 4. What is the most common word in the string?"
   ]
  },
  {
   "cell_type": "code",
   "execution_count": 14,
   "id": "c0bf70e6-ed4c-451d-a0df-1bdcdaaf02cb",
   "metadata": {},
   "outputs": [
    {
     "name": "stdout",
     "output_type": "stream",
     "text": [
      "The most common word in the string is the word the.\n"
     ]
    }
   ],
   "source": [
    "dict = {}\n",
    "count, itm = 0, ''\n",
    "for item in reversed(a):\n",
    "    dict[item] = dict.get(item, 0) + 1\n",
    "    if dict[item] >= count :\n",
    "        count, itm = dict[item], item\n",
    "print(\"The most common word in the string is the word \" + str(itm) + \".\")"
   ]
  }
 ],
 "metadata": {
  "kernelspec": {
   "display_name": "Python 3 (ipykernel)",
   "language": "python",
   "name": "python3"
  },
  "language_info": {
   "codemirror_mode": {
    "name": "ipython",
    "version": 3
   },
   "file_extension": ".py",
   "mimetype": "text/x-python",
   "name": "python",
   "nbconvert_exporter": "python",
   "pygments_lexer": "ipython3",
   "version": "3.11.7"
  }
 },
 "nbformat": 4,
 "nbformat_minor": 5
}
